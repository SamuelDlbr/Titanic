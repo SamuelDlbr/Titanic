{
 "cells": [
  {
   "cell_type": "code",
   "execution_count": 26,
   "metadata": {},
   "outputs": [],
   "source": [
    "import csv\n",
    "import numpy as np\n",
    "import pandas as pd\n",
    "from sklearn.model_selection import train_test_split\n",
    "from sklearn.model_selection import GridSearchCV\n",
    "from sklearn.metrics import make_scorer\n",
    "from sklearn.impute import SimpleImputer\n",
    "from sklearn.metrics import confusion_matrix\n",
    "from sklearn.preprocessing import LabelEncoder, StandardScaler\n",
    "from sklearn.ensemble import RandomForestClassifier\n",
    "from sklearn.metrics import accuracy_score\n",
    "\n",
    "path = \"C:/Users/samue/Documents/MOOCs/Data Challenge Titanic/\""
   ]
  },
  {
   "cell_type": "markdown",
   "metadata": {},
   "source": [
    "# Arbres de décision"
   ]
  },
  {
   "cell_type": "code",
   "execution_count": 12,
   "metadata": {},
   "outputs": [],
   "source": [
    "test_df = pd.read_csv(path+'test.csv')\n",
    "test_df = test_df.drop([\"Name\", \"Ticket\", \"Cabin\"], axis=1)\n",
    "test_df = test_df.dropna()\n",
    "X_test = pd.get_dummies(X_train)"
   ]
  },
  {
   "cell_type": "code",
   "execution_count": 13,
   "metadata": {},
   "outputs": [],
   "source": [
    "train_df = pd.read_csv(path+'train.csv')\n",
    "\n",
    "train_df = train_df.drop([\"Name\", \"Ticket\", \"Cabin\"], axis=1)\n",
    "train_df = train_df.dropna()\n",
    "\n",
    "y_train = train_df.Survived\n",
    "y_train = pd.get_dummies(y_train)\n",
    "\n",
    "X_train = train_df.drop([\"Survived\"], axis=1)\n",
    "X_train = pd.get_dummies(X_train)"
   ]
  },
  {
   "cell_type": "code",
   "execution_count": 14,
   "metadata": {},
   "outputs": [],
   "source": [
    "X_train_train, X_train_test, y_train_train, y_train_test = train_test_split(X_train, y_train, test_size=0.33, random_state=42)"
   ]
  },
  {
   "cell_type": "code",
   "execution_count": 15,
   "metadata": {},
   "outputs": [
    {
     "data": {
      "text/plain": [
       "0.7914893617021277"
      ]
     },
     "execution_count": 15,
     "metadata": {},
     "output_type": "execute_result"
    }
   ],
   "source": [
    "clf = RandomForestClassifier(random_state = 0, n_estimators = 80, max_depth = 15, min_samples_split = 4)\n",
    "\n",
    "X_arr = X_train_train.to_numpy()\n",
    "y_arr = y_train_train.to_numpy()\n",
    "\n",
    "clf = clf.fit(X_arr,y_arr)\n",
    "\n",
    "y_train_prob = clf.predict(X_train_test)\n",
    "y_train_pred = y_train_prob.argmax(axis=-1)\n",
    "y_train_test_final = y_train_test.to_numpy().argmax(axis=1) \n",
    "\n",
    "accuracy_score(y_train_pred,y_train_test_final)"
   ]
  },
  {
   "cell_type": "code",
   "execution_count": 16,
   "metadata": {},
   "outputs": [
    {
     "data": {
      "text/plain": [
       "array([[115,  28],\n",
       "       [ 21,  71]], dtype=int64)"
      ]
     },
     "execution_count": 16,
     "metadata": {},
     "output_type": "execute_result"
    }
   ],
   "source": [
    "confusion_matrix(y_train_pred,y_train_test_final)"
   ]
  },
  {
   "cell_type": "code",
   "execution_count": 22,
   "metadata": {},
   "outputs": [
    {
     "data": {
      "text/plain": [
       "0.8372881355932204"
      ]
     },
     "execution_count": 22,
     "metadata": {},
     "output_type": "execute_result"
    }
   ],
   "source": [
    "train_df = pd.read_csv(path+'train.csv')\n",
    "#train_df = train_df.drop([\"PassengerId\"], axis=1)\n",
    "train_df = train_df.drop([\"Name\", \"Ticket\", \"Cabin\"], axis=1)\n",
    "\n",
    "y_train = train_df.Survived\n",
    "y_train = pd.get_dummies(y_train)\n",
    "\n",
    "X_train_df = train_df.drop([\"Survived\"], axis=1)\n",
    "X_train_df = pd.get_dummies(X_train_df)\n",
    "\n",
    "imp = SimpleImputer(missing_values=np.nan, strategy='mean')\n",
    "imp = imp.fit(X_train_df.to_numpy())\n",
    "\n",
    "X_train = imp.transform(X_train_df.to_numpy())\n",
    "\n",
    "X_train_train, X_train_test, y_train_train, y_train_test = train_test_split(X_train, y_train, test_size=0.33, random_state=42)\n",
    "\n",
    "RF = RandomForestClassifier(random_state = 0, n_estimators = 38, max_depth = 15, min_samples_split = 4)\n",
    "\n",
    "X_arr = X_train_train\n",
    "y_arr = y_train_train\n",
    "\n",
    "RF = RF.fit(X_arr,y_arr)\n",
    "\n",
    "y_train_prob = RF.predict(X_train_test)\n",
    "y_train_pred = y_train_prob.argmax(axis=-1)\n",
    "y_train_test_final = y_train_test.to_numpy().argmax(axis=1) \n",
    "\n",
    "accuracy_score(y_train_pred,y_train_test_final)"
   ]
  },
  {
   "cell_type": "code",
   "execution_count": 18,
   "metadata": {},
   "outputs": [
    {
     "name": "stdout",
     "output_type": "stream",
     "text": [
      "0.1528466471200142 PassengerId\n",
      "0.09628345223802694 Pclass\n",
      "0.16733847688183526 Age\n",
      "0.034164756127130234 SibSp\n",
      "0.028543365587763925 Parch\n",
      "0.18148215778578297 Fare\n",
      "0.14036508707708953 Sex_female\n",
      "0.15486418321443032 Sex_male\n",
      "0.0196330164718901 Embarked_C\n",
      "0.006402320498541954 Embarked_Q\n",
      "0.018076536997494543 Embarked_S\n"
     ]
    }
   ],
   "source": [
    "importances = list(RF.feature_importances_)\n",
    "for k in range(len(importances)):\n",
    "    print(importances[k],X_train_df.columns[k])"
   ]
  },
  {
   "cell_type": "code",
   "execution_count": 19,
   "metadata": {},
   "outputs": [
    {
     "name": "stderr",
     "output_type": "stream",
     "text": [
      "C:\\Users\\samue\\Anaconda3\\lib\\site-packages\\numpy\\lib\\histograms.py:824: RuntimeWarning: invalid value encountered in greater_equal\n",
      "  keep = (tmp_a >= first_edge)\n",
      "C:\\Users\\samue\\Anaconda3\\lib\\site-packages\\numpy\\lib\\histograms.py:825: RuntimeWarning: invalid value encountered in less_equal\n",
      "  keep &= (tmp_a <= last_edge)\n"
     ]
    },
    {
     "data": {
      "image/png": "[encoded data removed]",
      "text/plain": [
       "<Figure size 1080x360 with 3 Axes>"
      ]
     },
     "metadata": {
      "needs_background": "light"
     },
     "output_type": "display_data"
    }
   ],
   "source": [
    "train_df = pd.read_csv(path+'train.csv')\n",
    "\n",
    "survivants = train_df['Survived'] == 1\n",
    "morts = train_df['Survived'] == 0\n",
    "\n",
    "plt.figure(figsize=(15,5))\n",
    "\n",
    "plt.subplot(1,3,1)\n",
    "plt.hist(train_df[survivants]['Age'].to_numpy())\n",
    "plt.hist(train_df[morts]['Age'].to_numpy(), alpha = .5)\n",
    "plt.title('Age')\n",
    "\n",
    "plt.subplot(1,3,2)\n",
    "plt.hist(train_df[survivants]['Fare'].to_numpy())\n",
    "plt.hist(train_df[morts]['Fare'].to_numpy(), alpha = .5)\n",
    "plt.title('Fare')\n",
    "\n",
    "plt.subplot(1,3,3)\n",
    "plt.hist(train_df[survivants]['Pclass'].to_numpy())\n",
    "plt.hist(train_df[morts]['Pclass'].to_numpy(), alpha = .5)\n",
    "plt.title('Pclass');"
   ]
  },
  {
   "cell_type": "code",
   "execution_count": 20,
   "metadata": {},
   "outputs": [
    {
     "data": {
      "text/html": [
       "<div>\n",
       "<style scoped>\n",
       "    .dataframe tbody tr th:only-of-type {\n",
       "        vertical-align: middle;\n",
       "    }\n",
       "\n",
       "    .dataframe tbody tr th {\n",
       "        vertical-align: top;\n",
       "    }\n",
       "\n",
       "    .dataframe thead th {\n",
       "        text-align: right;\n",
       "    }\n",
       "</style>\n",
       "<table border=\"1\" class=\"dataframe\">\n",
       "  <thead>\n",
       "    <tr style=\"text-align: right;\">\n",
       "      <th></th>\n",
       "      <th>PassengerId</th>\n",
       "      <th>Survived</th>\n",
       "      <th>Pclass</th>\n",
       "      <th>Age</th>\n",
       "      <th>SibSp</th>\n",
       "      <th>Parch</th>\n",
       "      <th>Fare</th>\n",
       "    </tr>\n",
       "  </thead>\n",
       "  <tbody>\n",
       "    <tr>\n",
       "      <th>count</th>\n",
       "      <td>891.000000</td>\n",
       "      <td>891.000000</td>\n",
       "      <td>891.000000</td>\n",
       "      <td>714.000000</td>\n",
       "      <td>891.000000</td>\n",
       "      <td>891.000000</td>\n",
       "      <td>891.000000</td>\n",
       "    </tr>\n",
       "    <tr>\n",
       "      <th>mean</th>\n",
       "      <td>446.000000</td>\n",
       "      <td>0.383838</td>\n",
       "      <td>2.308642</td>\n",
       "      <td>29.699118</td>\n",
       "      <td>0.523008</td>\n",
       "      <td>0.381594</td>\n",
       "      <td>32.204208</td>\n",
       "    </tr>\n",
       "    <tr>\n",
       "      <th>std</th>\n",
       "      <td>257.353842</td>\n",
       "      <td>0.486592</td>\n",
       "      <td>0.836071</td>\n",
       "      <td>14.526497</td>\n",
       "      <td>1.102743</td>\n",
       "      <td>0.806057</td>\n",
       "      <td>49.693429</td>\n",
       "    </tr>\n",
       "    <tr>\n",
       "      <th>min</th>\n",
       "      <td>1.000000</td>\n",
       "      <td>0.000000</td>\n",
       "      <td>1.000000</td>\n",
       "      <td>0.420000</td>\n",
       "      <td>0.000000</td>\n",
       "      <td>0.000000</td>\n",
       "      <td>0.000000</td>\n",
       "    </tr>\n",
       "    <tr>\n",
       "      <th>25%</th>\n",
       "      <td>223.500000</td>\n",
       "      <td>0.000000</td>\n",
       "      <td>2.000000</td>\n",
       "      <td>20.125000</td>\n",
       "      <td>0.000000</td>\n",
       "      <td>0.000000</td>\n",
       "      <td>7.910400</td>\n",
       "    </tr>\n",
       "    <tr>\n",
       "      <th>50%</th>\n",
       "      <td>446.000000</td>\n",
       "      <td>0.000000</td>\n",
       "      <td>3.000000</td>\n",
       "      <td>28.000000</td>\n",
       "      <td>0.000000</td>\n",
       "      <td>0.000000</td>\n",
       "      <td>14.454200</td>\n",
       "    </tr>\n",
       "    <tr>\n",
       "      <th>75%</th>\n",
       "      <td>668.500000</td>\n",
       "      <td>1.000000</td>\n",
       "      <td>3.000000</td>\n",
       "      <td>38.000000</td>\n",
       "      <td>1.000000</td>\n",
       "      <td>0.000000</td>\n",
       "      <td>31.000000</td>\n",
       "    </tr>\n",
       "    <tr>\n",
       "      <th>max</th>\n",
       "      <td>891.000000</td>\n",
       "      <td>1.000000</td>\n",
       "      <td>3.000000</td>\n",
       "      <td>80.000000</td>\n",
       "      <td>8.000000</td>\n",
       "      <td>6.000000</td>\n",
       "      <td>512.329200</td>\n",
       "    </tr>\n",
       "  </tbody>\n",
       "</table>\n",
       "</div>"
      ],
      "text/plain": [
       "       PassengerId    Survived      Pclass         Age       SibSp  \\\n",
       "count   891.000000  891.000000  891.000000  714.000000  891.000000   \n",
       "mean    446.000000    0.383838    2.308642   29.699118    0.523008   \n",
       "std     257.353842    0.486592    0.836071   14.526497    1.102743   \n",
       "min       1.000000    0.000000    1.000000    0.420000    0.000000   \n",
       "25%     223.500000    0.000000    2.000000   20.125000    0.000000   \n",
       "50%     446.000000    0.000000    3.000000   28.000000    0.000000   \n",
       "75%     668.500000    1.000000    3.000000   38.000000    1.000000   \n",
       "max     891.000000    1.000000    3.000000   80.000000    8.000000   \n",
       "\n",
       "            Parch        Fare  \n",
       "count  891.000000  891.000000  \n",
       "mean     0.381594   32.204208  \n",
       "std      0.806057   49.693429  \n",
       "min      0.000000    0.000000  \n",
       "25%      0.000000    7.910400  \n",
       "50%      0.000000   14.454200  \n",
       "75%      0.000000   31.000000  \n",
       "max      6.000000  512.329200  "
      ]
     },
     "execution_count": 20,
     "metadata": {},
     "output_type": "execute_result"
    }
   ],
   "source": [
    "train_df.describe()"
   ]
  },
  {
   "cell_type": "code",
   "execution_count": 32,
   "metadata": {},
   "outputs": [
    {
     "data": {
      "text/plain": [
       "0.8135593220338984"
      ]
     },
     "execution_count": 32,
     "metadata": {},
     "output_type": "execute_result"
    }
   ],
   "source": [
    "train_df = pd.read_csv(path+'train.csv')\n",
    "#train_df = train_df.drop([\"PassengerId\"], axis=1)\n",
    "train_df = train_df.drop([\"Name\", \"Ticket\", \"Cabin\"], axis=1)\n",
    "\n",
    "y_train = train_df.Survived\n",
    "y_train = pd.get_dummies(y_train)\n",
    "\n",
    "X_train_df = train_df.drop([\"Survived\"], axis=1)\n",
    "X_train_df = pd.get_dummies(X_train_df)\n",
    "\n",
    "imp = SimpleImputer(missing_values=np.nan, strategy='mean')\n",
    "imp = imp.fit(X_train_df.to_numpy())\n",
    "\n",
    "X_train = imp.transform(X_train_df.to_numpy())\n",
    "X_train_train, X_train_test, y_train_train, y_train_test = train_test_split(X_train, y_train, test_size=0.33, random_state=42)\n",
    "\n",
    "RF = RandomForestClassifier(random_state = 0, n_estimators = 38, max_depth = 15, min_samples_split = 4)\n",
    "\n",
    "kf = KFold(n_splits=3,random_state=50,shuffle=True)\n",
    "split = kf.split(X_train_train)\n",
    "\n",
    "n_estimators = [int(x) for x in np.linspace(start = 200, stop = 2000, num = 4)]\n",
    "max_features = ['auto', 'sqrt']\n",
    "max_depth = [int(x) for x in np.linspace(10, 110, num = 4)]\n",
    "max_depth.append(None)\n",
    "min_samples_split = [2, 5, 10]\n",
    "min_samples_leaf = [1, 2, 4]\n",
    "bootstrap = [True, False]\n",
    "\n",
    "parameters = {'n_estimators': n_estimators,\n",
    "               'max_features': max_features,\n",
    "               'max_depth': max_depth,\n",
    "               'min_samples_split': min_samples_split,\n",
    "               'min_samples_leaf': min_samples_leaf,\n",
    "               'bootstrap': bootstrap}\n",
    "\n",
    "GS_RF = GridSearchCV(RF, \n",
    "                     param_grid = parameters,\n",
    "                     scoring = make_scorer(accuracy_score),\n",
    "                     n_jobs=-1, \n",
    "                     cv = split, \n",
    "                     iid = True)\n",
    "\n",
    "X_arr = X_train_train\n",
    "y_arr = y_train_train\n",
    "\n",
    "GS_RF = GS_RF.fit(X_arr,y_arr)\n",
    "GS_RF_best_estimator = GS_RF.best_estimator_\n",
    "\n",
    "y_train_prob = GS_RF_best_estimator.predict(X_train_test)\n",
    "y_train_pred = y_train_prob.argmax(axis=-1)\n",
    "y_train_test_final = y_train_test.to_numpy().argmax(axis=1) \n",
    "\n",
    "accuracy_score(y_train_pred,y_train_test_final)"
   ]
  },
  {
   "cell_type": "code",
   "execution_count": 34,
   "metadata": {},
   "outputs": [
    {
     "data": {
      "text/plain": [
       "{'bootstrap': True,\n",
       " 'max_depth': 10,\n",
       " 'max_features': 'auto',\n",
       " 'min_samples_leaf': 1,\n",
       " 'min_samples_split': 10,\n",
       " 'n_estimators': 2000}"
      ]
     },
     "execution_count": 34,
     "metadata": {},
     "output_type": "execute_result"
    }
   ],
   "source": [
    "GS_RF.best_params_"
   ]
  },
  {
   "cell_type": "code",
   "execution_count": 35,
   "metadata": {},
   "outputs": [
    {
     "data": {
      "text/plain": [
       "0.8372881355932204"
      ]
     },
     "execution_count": 35,
     "metadata": {},
     "output_type": "execute_result"
    }
   ],
   "source": [
    "train_df = pd.read_csv(path+'train.csv')\n",
    "#train_df = train_df.drop([\"PassengerId\"], axis=1)\n",
    "train_df = train_df.drop([\"Name\", \"Ticket\", \"Cabin\"], axis=1)\n",
    "\n",
    "y_train = train_df.Survived\n",
    "y_train = pd.get_dummies(y_train)\n",
    "\n",
    "X_train_df = train_df.drop([\"Survived\"], axis=1)\n",
    "X_train_df = pd.get_dummies(X_train_df)\n",
    "\n",
    "imp = SimpleImputer(missing_values=np.nan, strategy='mean')\n",
    "imp = imp.fit(X_train_df.to_numpy())\n",
    "X_train = imp.transform(X_train_df.to_numpy())\n",
    "\n",
    "X_train_train, X_train_test, y_train_train, y_train_test = train_test_split(X_train, y_train, test_size=0.33, random_state=42)\n",
    "\n",
    "RF = RandomForestClassifier(random_state = 0, n_estimators = 38, max_depth = 15, min_samples_split = 4)\n",
    "\n",
    "X_arr = X_train_train\n",
    "y_arr = y_train_train\n",
    "\n",
    "RF = RF.fit(X_arr,y_arr)\n",
    "\n",
    "y_train_prob = RF.predict(X_train_test)\n",
    "y_train_pred = y_train_prob.argmax(axis=-1)\n",
    "y_train_test_final = y_train_test.to_numpy().argmax(axis=1) \n",
    "\n",
    "accuracy_score(y_train_pred,y_train_test_final)"
   ]
  },
  {
   "cell_type": "code",
   "execution_count": 68,
   "metadata": {},
   "outputs": [],
   "source": [
    "test_df = pd.read_csv(path+'test.csv')\n",
    "test_df = test_df.drop([\"Name\", \"Ticket\", \"Cabin\"], axis=1)\n",
    "X_test_df = pd.get_dummies(test_df)\n",
    "\n",
    "imp = SimpleImputer(missing_values=np.nan, strategy='mean')\n",
    "imp = imp.fit(X_test_df.to_numpy())\n",
    "X_test = imp.transform(X_test_df.to_numpy())\n",
    "\n",
    "y_test_prob = RF.predict(X_test)\n",
    "y_test_pred = y_test_prob.argmax(axis=-1)\n",
    "\n",
    "d = {'PassengerId': test_df[\"PassengerId\"], 'Survived': y_test_pred}\n",
    "df = pd.DataFrame(data=d)\n",
    "\n",
    "df.to_csv(\"my_submission_0.csv\", index = False)"
   ]
  },
  {
   "cell_type": "markdown",
   "metadata": {},
   "source": [
    "Random Forest, with SimpleImputer to replace NaNs with the average value of the variable"
   ]
  },
  {
   "cell_type": "code",
   "execution_count": 69,
   "metadata": {},
   "outputs": [],
   "source": [
    "test_df = pd.read_csv(path+'test.csv')\n",
    "test_df = test_df.drop([\"Name\", \"Ticket\", \"Cabin\"], axis=1)\n",
    "X_test_df = pd.get_dummies(test_df)\n",
    "\n",
    "imp = SimpleImputer(missing_values=np.nan, strategy='mean')\n",
    "imp = imp.fit(X_test_df.to_numpy())\n",
    "X_test = imp.transform(X_test_df.to_numpy())\n",
    "\n",
    "y_test_prob = GS_RF.predict(X_test)\n",
    "y_test_pred = y_test_prob.argmax(axis=-1)\n",
    "\n",
    "d = {'PassengerId': test_df[\"PassengerId\"], 'Survived': y_test_pred}\n",
    "df = pd.DataFrame(data=d)\n",
    "\n",
    "df.to_csv(\"my_submission_GS_RF.csv\", index = False)"
   ]
  },
  {
   "cell_type": "markdown",
   "metadata": {},
   "source": [
    "GridSearchCV Random Forest, with SimpleImputer to replace NaNs with the average value of the variable"
   ]
  },
  {
   "cell_type": "markdown",
   "metadata": {},
   "source": [
    "# \"Solution\""
   ]
  },
  {
   "cell_type": "code",
   "execution_count": 30,
   "metadata": {},
   "outputs": [
    {
     "data": {
      "text/plain": [
       "0.7966101694915254"
      ]
     },
     "execution_count": 30,
     "metadata": {},
     "output_type": "execute_result"
    }
   ],
   "source": [
    "train_df = pd.read_csv(path+'train.csv')\n",
    "train_df = train_df.drop([\"Name\", \"Ticket\", \"Cabin\", \"Embarked\", \"PassengerId\"], axis=1)\n",
    "\n",
    "#Remplacement des NaNs de la variable Age par la valeur moyenne\n",
    "train_df['Age'].fillna(train_df['Age'].median(), inplace = True)\n",
    "\n",
    "# Making Bins for Age\n",
    "train_df['AgeBin'] = pd.qcut(train_df['Age'], 4)\n",
    "label = LabelEncoder()\n",
    "train_df['AgeBin_Code'] = label.fit_transform(train_df['AgeBin'])\n",
    "train_df.drop(['Age','AgeBin'], 1, inplace=True)\n",
    "\n",
    "#Kinda One Hot encoding\n",
    "train_df['Sex'].replace(['male','female'],[0,1],inplace=True)\n",
    "\n",
    "#Remplacement des NaNs de la variable Fare par la valeur moyenne\n",
    "train_df['Fare'].fillna(train_df['Fare'].median(), inplace = True)\n",
    "\n",
    "# Making Bins for Fare\n",
    "train_df['FareBin'] = pd.qcut(train_df['Fare'], 5)\n",
    "label = LabelEncoder()\n",
    "train_df['FareBin_Code'] = label.fit_transform(train_df['FareBin'])\n",
    "train_df.drop(['Fare','FareBin'], 1, inplace=True)\n",
    "\n",
    "X_train_df = train_df.drop([\"Survived\"], axis=1)\n",
    "y_train_df = train_df.Survived\n",
    "\n",
    "X_train = X_train_df.to_numpy()\n",
    "y_train = y_train_df.to_numpy()\n",
    "\n",
    "X_train_train, X_train_test, y_train_train, y_train_test = train_test_split(X_train, y_train, test_size=0.33, random_state=42)\n",
    "\n",
    "std_scaler = StandardScaler()\n",
    "X_train_train = std_scaler.fit_transform(X_train_train)\n",
    "X_train_test = std_scaler.fit_transform(X_train_test)\n",
    "\n",
    "RF = RandomForestClassifier(random_state = 0, n_estimators = 38, max_depth = 15, min_samples_split = 4)\n",
    "\n",
    "X_arr = X_train_train\n",
    "y_arr = y_train_train\n",
    "\n",
    "RF = RF.fit(X_arr,y_arr)\n",
    "\n",
    "y_train_pred = RF.predict(X_train_test)\n",
    "\n",
    "accuracy_score(y_train_pred,y_train_test)"
   ]
  },
  {
   "cell_type": "code",
   "execution_count": null,
   "metadata": {},
   "outputs": [],
   "source": []
  }
 ],
 "metadata": {
  "kernelspec": {
   "display_name": "Python 3",
   "language": "python",
   "name": "python3"
  },
  "language_info": {
   "codemirror_mode": {
    "name": "ipython",
    "version": 3
   },
   "file_extension": ".py",
   "mimetype": "text/x-python",
   "name": "python",
   "nbconvert_exporter": "python",
   "pygments_lexer": "ipython3",
   "version": "3.7.3"
  }
 },
 "nbformat": 4,
 "nbformat_minor": 2
}
